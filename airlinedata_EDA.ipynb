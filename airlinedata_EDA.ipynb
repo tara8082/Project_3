{
 "metadata": {
  "language_info": {
   "codemirror_mode": {
    "name": "ipython",
    "version": 3
   },
   "file_extension": ".py",
   "mimetype": "text/x-python",
   "name": "python",
   "nbconvert_exporter": "python",
   "pygments_lexer": "ipython3",
   "version": "3.8.5-final"
  },
  "orig_nbformat": 2,
  "kernelspec": {
   "name": "Python 3.8.5 64-bit",
   "display_name": "Python 3.8.5 64-bit",
   "metadata": {
    "interpreter": {
     "hash": "ddd4d743fd1d38e605abc3a37886e115f06419814ac94d7a1c9c2c18274a5f3d"
    }
   }
  }
 },
 "nbformat": 4,
 "nbformat_minor": 2,
 "cells": [
  {
   "cell_type": "code",
   "execution_count": 4,
   "metadata": {},
   "outputs": [],
   "source": [
    "import numpy as np\n",
    "import pandas as pd\n"
   ]
  },
  {
   "cell_type": "code",
   "execution_count": 19,
   "metadata": {},
   "outputs": [],
   "source": [
    "#adding CSVs and concatting dataframes\n",
    "df_kaggle1 = pd.read_csv(\"/Users/Tara8082/GIT/ProjectGIT/Project_3/train.csv\")\n",
    "df_kaggle2 = pd.read_csv(\"/Users/Tara8082/GIT/ProjectGIT/Project_3/test.csv\")\n",
    "frames = [df_kaggle1, df_kaggle2]\n",
    "df = pd.concat(frames)"
   ]
  },
  {
   "cell_type": "code",
   "execution_count": 23,
   "metadata": {},
   "outputs": [
    {
     "output_type": "execute_result",
     "data": {
      "text/plain": [
       "Index(['Unnamed: 0', 'id', 'Gender', 'Customer Type', 'Age', 'Type of Travel',\n",
       "       'Class', 'Flight Distance', 'Inflight wifi service',\n",
       "       'Departure/Arrival time convenient', 'Ease of Online booking',\n",
       "       'Gate location', 'Food and drink', 'Online boarding', 'Seat comfort',\n",
       "       'Inflight entertainment', 'On-board service', 'Leg room service',\n",
       "       'Baggage handling', 'Checkin service', 'Inflight service',\n",
       "       'Cleanliness', 'Departure Delay in Minutes', 'Arrival Delay in Minutes',\n",
       "       'satisfaction'],\n",
       "      dtype='object')"
      ]
     },
     "metadata": {},
     "execution_count": 23
    }
   ],
   "source": [
    "df.columns"
   ]
  },
  {
   "cell_type": "code",
   "execution_count": 21,
   "metadata": {},
   "outputs": [
    {
     "output_type": "execute_result",
     "data": {
      "text/plain": [
       "Unnamed: 0                             0\n",
       "id                                     0\n",
       "Gender                                 0\n",
       "Customer Type                          0\n",
       "Age                                    0\n",
       "Type of Travel                         0\n",
       "Class                                  0\n",
       "Flight Distance                        0\n",
       "Inflight wifi service                  0\n",
       "Departure/Arrival time convenient      0\n",
       "Ease of Online booking                 0\n",
       "Gate location                          0\n",
       "Food and drink                         0\n",
       "Online boarding                        0\n",
       "Seat comfort                           0\n",
       "Inflight entertainment                 0\n",
       "On-board service                       0\n",
       "Leg room service                       0\n",
       "Baggage handling                       0\n",
       "Checkin service                        0\n",
       "Inflight service                       0\n",
       "Cleanliness                            0\n",
       "Departure Delay in Minutes             0\n",
       "Arrival Delay in Minutes             393\n",
       "satisfaction                           0\n",
       "dtype: int64"
      ]
     },
     "metadata": {},
     "execution_count": 21
    }
   ],
   "source": [
    "df.isnull().sum()"
   ]
  },
  {
   "cell_type": "code",
   "execution_count": 22,
   "metadata": {},
   "outputs": [
    {
     "output_type": "stream",
     "name": "stdout",
     "text": [
      "<class 'pandas.core.frame.DataFrame'>\nInt64Index: 129880 entries, 0 to 25975\nData columns (total 25 columns):\n #   Column                             Non-Null Count   Dtype  \n---  ------                             --------------   -----  \n 0   Unnamed: 0                         129880 non-null  int64  \n 1   id                                 129880 non-null  int64  \n 2   Gender                             129880 non-null  object \n 3   Customer Type                      129880 non-null  object \n 4   Age                                129880 non-null  int64  \n 5   Type of Travel                     129880 non-null  object \n 6   Class                              129880 non-null  object \n 7   Flight Distance                    129880 non-null  int64  \n 8   Inflight wifi service              129880 non-null  int64  \n 9   Departure/Arrival time convenient  129880 non-null  int64  \n 10  Ease of Online booking             129880 non-null  int64  \n 11  Gate location                      129880 non-null  int64  \n 12  Food and drink                     129880 non-null  int64  \n 13  Online boarding                    129880 non-null  int64  \n 14  Seat comfort                       129880 non-null  int64  \n 15  Inflight entertainment             129880 non-null  int64  \n 16  On-board service                   129880 non-null  int64  \n 17  Leg room service                   129880 non-null  int64  \n 18  Baggage handling                   129880 non-null  int64  \n 19  Checkin service                    129880 non-null  int64  \n 20  Inflight service                   129880 non-null  int64  \n 21  Cleanliness                        129880 non-null  int64  \n 22  Departure Delay in Minutes         129880 non-null  int64  \n 23  Arrival Delay in Minutes           129487 non-null  float64\n 24  satisfaction                       129880 non-null  object \ndtypes: float64(1), int64(19), object(5)\nmemory usage: 25.8+ MB\n"
     ]
    }
   ],
   "source": [
    "df.info()"
   ]
  },
  {
   "cell_type": "code",
   "execution_count": null,
   "metadata": {},
   "outputs": [],
   "source": []
  }
 ]
}